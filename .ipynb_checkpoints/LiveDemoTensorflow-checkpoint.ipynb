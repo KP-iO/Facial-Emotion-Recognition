{
 "cells": [
  {
   "cell_type": "code",
   "execution_count": 5,
   "id": "a0fa6632-fafe-4a21-8417-bd98384655f2",
   "metadata": {},
   "outputs": [],
   "source": [
    "import cv2\n",
    "import numpy as np\n"
   ]
  },
  {
   "cell_type": "code",
   "execution_count": 6,
   "id": "c248295b-a0f3-4d4c-bbed-1b2c714edfe2",
   "metadata": {},
   "outputs": [],
   "source": [
    "path = \"haarcascade_frontalface_default.xml\"\n",
    "font_scale = 1.5\n",
    "font = cv2.FONT_HERSHEY_PLAIN"
   ]
  },
  {
   "cell_type": "code",
   "execution_count": 7,
   "id": "4586c3c1-8c88-4094-83e6-85e8d1ef04c4",
   "metadata": {},
   "outputs": [],
   "source": [
    "# set the rectangle background to white\n",
    "rectangle_bgr =(255,255,255)"
   ]
  },
  {
   "cell_type": "code",
   "execution_count": 10,
   "id": "c8727420-a483-4039-ac31-486e63384157",
   "metadata": {},
   "outputs": [],
   "source": [
    "# make a black image\n",
    "img = np.zeros((500,500))"
   ]
  },
  {
   "cell_type": "code",
   "execution_count": 11,
   "id": "c155ce81-a165-478c-a3b7-9acba0af8f1f",
   "metadata": {},
   "outputs": [
    {
     "data": {
      "text/plain": [
       "array([[0., 0., 0., ..., 0., 0., 0.],\n",
       "       [0., 0., 0., ..., 0., 0., 0.],\n",
       "       [0., 0., 0., ..., 0., 0., 0.],\n",
       "       ...,\n",
       "       [0., 0., 0., ..., 0., 0., 0.],\n",
       "       [0., 0., 0., ..., 0., 0., 0.],\n",
       "       [0., 0., 0., ..., 0., 0., 0.]])"
      ]
     },
     "execution_count": 11,
     "metadata": {},
     "output_type": "execute_result"
    }
   ],
   "source": [
    "# Set some text\n",
    "text = \"Some text in box!\"\n",
    "# get the width and height of the text box\n",
    "(text_width,text_height) = cv2.getTextSize(text, font, fontScale = font_scale, thickness = 1)[0]\n",
    "# Set text start position\n",
    "text_offset_x = 10\n",
    "text_offset_y = img.shape[0] - 25\n",
    "# Make the co ordinates of the box with a small padding of two pixels\n",
    "box_coords = ((text_offset_x,text_offset_y),(text_offset_x + text_width +2, text_offset_y - text_height -2))\n",
    "cv2.rectangle(img, box_coords[0], box_coords[1], rectangle_bgr,cv2.FILLED)\n",
    "cv2.putText(img, text, (text_offset_x,text_offset_y), font, fontScale=font_scale, color=(0,0,0), thickness=1)\n"
   ]
  },
  {
   "cell_type": "code",
   "execution_count": 13,
   "id": "123732bf-ee4f-41b7-b8bc-61068b1844d5",
   "metadata": {},
   "outputs": [
    {
     "name": "stderr",
     "output_type": "stream",
     "text": [
      "OpenCV: camera access has been denied. Either run 'tccutil reset Camera' command in same terminal to reset application authorization status, either modify 'System Preferences -> Security & Privacy -> Camera' settings for your application.\n",
      "OpenCV: camera failed to properly initialize!\n",
      "OpenCV: camera access has been denied. Either run 'tccutil reset Camera' command in same terminal to reset application authorization status, either modify 'System Preferences -> Security & Privacy -> Camera' settings for your application.\n",
      "OpenCV: camera failed to properly initialize!\n"
     ]
    },
    {
     "ename": "OSError",
     "evalue": "Cannot open webcam",
     "output_type": "error",
     "traceback": [
      "\u001b[0;31m---------------------------------------------------------------------------\u001b[0m",
      "\u001b[0;31mOSError\u001b[0m                                   Traceback (most recent call last)",
      "\u001b[0;32m/var/folders/1d/v3lv8nm90xq_6jn6zzd9bd0h0000gn/T/ipykernel_6427/3875341735.py\u001b[0m in \u001b[0;36m<module>\u001b[0;34m\u001b[0m\n\u001b[1;32m      4\u001b[0m     \u001b[0mcap\u001b[0m \u001b[0;34m=\u001b[0m \u001b[0mcv2\u001b[0m\u001b[0;34m.\u001b[0m\u001b[0mVideoCapture\u001b[0m\u001b[0;34m(\u001b[0m\u001b[0;36m0\u001b[0m\u001b[0;34m)\u001b[0m\u001b[0;34m\u001b[0m\u001b[0;34m\u001b[0m\u001b[0m\n\u001b[1;32m      5\u001b[0m \u001b[0;32mif\u001b[0m \u001b[0;32mnot\u001b[0m \u001b[0mcap\u001b[0m\u001b[0;34m.\u001b[0m\u001b[0misOpened\u001b[0m\u001b[0;34m(\u001b[0m\u001b[0;34m)\u001b[0m\u001b[0;34m:\u001b[0m\u001b[0;34m\u001b[0m\u001b[0;34m\u001b[0m\u001b[0m\n\u001b[0;32m----> 6\u001b[0;31m     \u001b[0;32mraise\u001b[0m \u001b[0mIOError\u001b[0m\u001b[0;34m(\u001b[0m\u001b[0;34m\"Cannot open webcam\"\u001b[0m\u001b[0;34m)\u001b[0m\u001b[0;34m\u001b[0m\u001b[0;34m\u001b[0m\u001b[0m\n\u001b[0m",
      "\u001b[0;31mOSError\u001b[0m: Cannot open webcam"
     ]
    }
   ],
   "source": [
    "cap = cv2.VideoCapture(1)\n",
    "# Check if webcam is opened correctly\n",
    "if not cap.isOpened():\n",
    "    cap = cv2.VideoCapture(0)\n",
    "if not cap.isOpened():\n",
    "    raise IOError(\"Cannot open webcam\")\n",
    "    \n",
    "while True:\n",
    "    ret,frame = cap.read()\n",
    "    faceCascade = cv2.CascadeClassifier(cv2.data.haarcascades + 'haarcascade_frontalface_default.xml')\n",
    "    gray = cv2.cvtColor(frame,cv2.COLOR_BGR2GRAY)\n",
    "    faces = faceCascade.detectMultiScale(gray,1.1,4)\n",
    "    for x,y,w,h in faces:\n",
    "        roi_gray = gray[y:y+h, x:x+w]\n",
    "        roi_color = frame[y:y+h, x:x+w]\n",
    "        cv2.rectangle(frame,(x,y),(x+w, y+h),(0,255,0),2)\n",
    "        facess = faceCascade.detectMultiScale(roi_gray)\n",
    "        if len(facess)==0:\n",
    "            print(\"Face not detected\")\n",
    "        else:\n",
    "            for(ex,ey,ew,eh) in facess:\n",
    "                face_roi = roi_color[ey:ey+eh, ex:ex +ew] ##Cropping the face\n",
    "    \n",
    "    final_image = cv2.resize(face_roi, (224,224))\n",
    "    final_image = np.expand_dims(final_image, axis = 0)\n",
    "    final_image = final_image/255.0\n",
    "    \n",
    "    font = cv2.FONT_HERSHEY_SIMPLEX\n",
    "    \n",
    "    Predictions = new_model.predict(final_image)\n",
    "    \n",
    "    font_scale = 1.5\n",
    "    font = cv2.FONT_HERSHEY_PLAIN\n",
    "    \n",
    "    \n",
    "    if (np.argmax(Predictions)==0):\n",
    "        status = \"Angry\"\n",
    "        \n",
    "        x1,y1,w1,h1 = 0,0,175,75\n",
    "        #Draw black background rectangle\n",
    "        cv2.rectangle(frame, (x1,x1), (x1 +w1, y1 +h1), (0,0,0), -1)\n",
    "        #Add text\n",
    "        cv2.putText(frame, status, (x1 +int(w1/10), y1 + int(h1/2)), cv2.FOUNT_HERSHEY_SIMPLEX, 0.7, (0,0,255), 2)\n",
    "#         Writes the \n",
    "        cv2.putText(frame, status, (100,150), font, 3,(0,0,255),2,cv2.LINE_4)\n",
    "        \n",
    "        cv2.rectangle(frame,(x,y), (x+w, y+h), (0,0,255))\n",
    "        \n",
    "    elif (np.argmax(Predictions)==1):\n",
    "        status = \"Disgust\"\n",
    "        \n",
    "        x1,y1,w1,h1 = 0,0,175,75\n",
    "        #Draw black background rectangle\n",
    "        cv2.rectangle(frame, (x1,x1), (x1 +w1, y1 +h1), (0,0,0), -1)\n",
    "        #Add text\n",
    "        cv2.putText(frame, status, (x1 +int(w1/10), y1 + int(h1/2)), cv2.FOUNT_HERSHEY_SIMPLEX, 0.7, (0,0,255), 2)\n",
    "        \n",
    "        cv2.putText(frame, status, (100,150), font, 3,(0,0,255),2,cv2.LINE_4)\n",
    "        \n",
    "        cv2.rectangle(frame,(x,y), (x+w, y+h), (0,0,255))\n",
    "        \n",
    "    elif (np.argmax(Predictions)==2):\n",
    "        status = \"Fear\"\n",
    "        \n",
    "        x1,y1,w1,h1 = 0,0,175,75\n",
    "        #Draw black background rectangle\n",
    "        cv2.rectangle(frame, (x1,x1), (x1 +w1, y1 +h1), (0,0,0), -1)\n",
    "        #Add text\n",
    "        cv2.putText(frame, status, (x1 +int(w1/10), y1 + int(h1/2)), cv2.FOUNT_HERSHEY_SIMPLEX, 0.7, (0,0,255), 2)\n",
    "        \n",
    "        cv2.putText(frame, status, (100,150), font, 3,(0,0,255),2,cv2.LINE_4)\n",
    "        \n",
    "        cv2.rectangle(frame,(x,y), (x+w, y+h), (0,0,255))\n",
    "        \n",
    "    elif (np.argmax(Predictions)==3):\n",
    "        status = \"Happy\"\n",
    "        \n",
    "        x1,y1,w1,h1 = 0,0,175,75\n",
    "        #Draw black background rectangle\n",
    "        cv2.rectangle(frame, (x1,x1), (x1 +w1, y1 +h1), (0,0,0), -1)\n",
    "        #Add text\n",
    "        cv2.putText(frame, status, (x1 +int(w1/10), y1 + int(h1/2)), cv2.FOUNT_HERSHEY_SIMPLEX, 0.7, (0,0,255), 2)\n",
    "        \n",
    "        cv2.putText(frame, status, (100,150), font, 3,(0,0,255),2,cv2.LINE_4)\n",
    "        \n",
    "        cv2.rectangle(frame,(x,y), (x+w, y+h), (0,0,255))\n",
    "\n",
    "    elif (np.argmax(Predictions)==4):\n",
    "        status = \"Sad\"\n",
    "        \n",
    "        x1,y1,w1,h1 = 0,0,175,75\n",
    "        #Draw black background rectangle\n",
    "        cv2.rectangle(frame, (x1,x1), (x1 +w1, y1 +h1), (0,0,0), -1)\n",
    "        #Add text\n",
    "        cv2.putText(frame, status, (x1 +int(w1/10), y1 + int(h1/2)), cv2.FOUNT_HERSHEY_SIMPLEX, 0.7, (0,0,255), 2)\n",
    "        \n",
    "        cv2.putText(frame, status, (100,150), font, 3,(0,0,255),2,cv2.LINE_4)\n",
    "        \n",
    "        cv2.rectangle(frame,(x,y), (x+w, y+h), (0,0,255))\n",
    "        \n",
    "    elif (np.argmax(Predictions)==5):\n",
    "        status = \"Surprise\"\n",
    "        \n",
    "        x1,y1,w1,h1 = 0,0,175,75\n",
    "        #Draw black background rectangle\n",
    "        cv2.rectangle(frame, (x1,x1), (x1 +w1, y1 +h1), (0,0,0), -1)\n",
    "        #Add text\n",
    "        cv2.putText(frame, status, (x1 +int(w1/10), y1 + int(h1/2)), cv2.FOUNT_HERSHEY_SIMPLEX, 0.7, (0,0,255), 2)\n",
    "        \n",
    "        cv2.putText(frame, status, (100,150), font, 3,(0,0,255),2,cv2.LINE_4)\n",
    "        \n",
    "        cv2.rectangle(frame,(x,y), (x+w, y+h), (0,0,255))\n",
    "        \n",
    "    else:\n",
    "        status = \"Disgust\"\n",
    "        \n",
    "        x1,y1,w1,h1 = 0,0,175,75\n",
    "        #Draw black background rectangle\n",
    "        cv2.rectangle(frame, (x1,x1), (x1 +w1, y1 +h1), (0,0,0), -1)\n",
    "        #Add text\n",
    "        cv2.putText(frame, status, (x1 +int(w1/10), y1 + int(h1/2)), cv2.FOUNT_HERSHEY_SIMPLEX, 0.7, (0,0,255), 2)\n",
    "        \n",
    "        cv2.putText(frame, status, (100,150), font, 3,(0,0,255),2,cv2.LINE_4)\n",
    "        \n",
    "        cv2.rectangle(frame,(x,y), (x+w, y+h), (0,0,255))\n",
    "        \n",
    "    \n",
    "    cv2.imshow(\"Face EMotion Recognition\", frame)\n",
    "    \n",
    "    if cv2.waitkey(2) & 0xFF ==ord('q'):\n",
    "        break\n",
    "\n",
    "cap.release()\n",
    "cv2.destroyAllWindows()\n",
    "    "
   ]
  },
  {
   "cell_type": "code",
   "execution_count": null,
   "id": "4e9219fb-e49d-46a6-bb42-0751f5267354",
   "metadata": {},
   "outputs": [],
   "source": []
  }
 ],
 "metadata": {
  "kernelspec": {
   "display_name": "Python 3 (ipykernel)",
   "language": "python",
   "name": "python3"
  },
  "language_info": {
   "codemirror_mode": {
    "name": "ipython",
    "version": 3
   },
   "file_extension": ".py",
   "mimetype": "text/x-python",
   "name": "python",
   "nbconvert_exporter": "python",
   "pygments_lexer": "ipython3",
   "version": "3.9.13"
  }
 },
 "nbformat": 4,
 "nbformat_minor": 5
}
